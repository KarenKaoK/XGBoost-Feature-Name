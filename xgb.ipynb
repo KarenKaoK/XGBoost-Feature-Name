{
 "cells": [
  {
   "cell_type": "code",
   "execution_count": null,
   "metadata": {},
   "outputs": [],
   "source": [
    "import pandas as pd\n",
    "import numpy as np\n",
    "from sklearn.model_selection import train_test_split\n",
    "from xgboost import XGBClassifier\n",
    "from sklearn.metrics import accuracy_score\n",
    "\n",
    "# 讀取數據集\n",
    "data = pd.read_csv('train.csv')\n",
    "\n",
    "# 選擇特徵和目標變量\n",
    "features = ['Pclass', 'Sex', 'Age', 'SibSp', 'Parch', 'Fare', 'Embarked']\n",
    "target = 'Survived'\n",
    "\n",
    "X = data[features]\n",
    "y = data[target]\n",
    "\n",
    "# 處理缺失值和類別特徵\n",
    "X['Age'].fillna(X['Age'].median(), inplace=True)\n",
    "X['Embarked'].fillna(X['Embarked'].mode()[0], inplace=True)\n",
    "X['Sex'] = X['Sex'].map({'male': 0, 'female': 1})\n",
    "X['Embarked'] = X['Embarked'].map({'C': 0, 'Q': 1, 'S': 2})\n",
    "\n",
    "# 將類別特徵轉換成獨熱編碼\n",
    "X = pd.get_dummies(X, columns=['Embarked'], drop_first=True)\n",
    "\n",
    "# 將數據集分成訓練集和測試集\n",
    "X_train, X_test, y_train, y_test = train_test_split(X, y, test_size=0.2, random_state=42)\n",
    "\n",
    "# 初始化 XGBoost 分類器\n",
    "model = XGBClassifier(learning_rate=0.1, n_estimators=100, max_depth=3)\n",
    "\n",
    "# 訓練模型\n",
    "model.fit(X_train, y_train)\n",
    "\n",
    "# 預測測試集\n",
    "y_pred = model.predict(X_test)\n",
    "\n",
    "# 計算準確率\n",
    "accuracy = accuracy_score(y_test, y_pred)\n",
    "print(\"Accuracy:\", accuracy)"
   ]
  },
  {
   "cell_type": "code",
   "execution_count": null,
   "metadata": {},
   "outputs": [],
   "source": []
  }
 ],
 "metadata": {
  "kernelspec": {
   "display_name": "test",
   "language": "python",
   "name": "python3"
  },
  "language_info": {
   "codemirror_mode": {
    "name": "ipython",
    "version": 3
   },
   "file_extension": ".py",
   "mimetype": "text/x-python",
   "name": "python",
   "nbconvert_exporter": "python",
   "pygments_lexer": "ipython3",
   "version": "3.6.13"
  },
  "orig_nbformat": 4
 },
 "nbformat": 4,
 "nbformat_minor": 2
}
